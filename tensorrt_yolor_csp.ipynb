{
 "cells": [
  {
   "cell_type": "code",
   "execution_count": 1,
   "metadata": {},
   "outputs": [
    {
     "name": "stderr",
     "output_type": "stream",
     "text": [
      "/home/pat/miniconda3/envs/yolor/lib/python3.7/site-packages/tqdm/auto.py:22: TqdmWarning: IProgress not found. Please update jupyter and ipywidgets. See https://ipywidgets.readthedocs.io/en/stable/user_install.html\n",
      "  from .autonotebook import tqdm as notebook_tqdm\n"
     ]
    },
    {
     "name": "stdout",
     "output_type": "stream",
     "text": [
      "[06/23/2022-12:57:44] [TRT] [W] TensorRT was linked against cuDNN 8.4.1 but loaded cuDNN 8.4.0\n",
      "[06/23/2022-12:57:44] [TRT] [W] TensorRT was linked against cuDNN 8.4.1 but loaded cuDNN 8.4.0\n",
      "CPU times: user 952 ms, sys: 595 ms, total: 1.55 s\n",
      "Wall time: 3.57 s\n"
     ]
    }
   ],
   "source": [
    "%%time \n",
    "\n",
    "import tensorrt as trt\n",
    "import numpy as np\n",
    "import pycuda.driver as cuda\n",
    "import pycuda.autoinit\n",
    "import cv2\n",
    "import torch \n",
    "f = open(\"/home/pat/scratch_dtu_synced/yolor/runs/train/yolor_csp5/weights/best_ap.trt\", \"rb\")\n",
    "# f = open(\"/home/pat/scratch/yolor/alexnet.trt\", \"rb\")\n",
    "runtime = trt.Runtime(trt.Logger(trt.Logger.WARNING)) \n",
    "\n",
    "engine = runtime.deserialize_cuda_engine(f.read())\n",
    "context = engine.create_execution_context()"
   ]
  },
  {
   "cell_type": "code",
   "execution_count": 3,
   "metadata": {},
   "outputs": [
    {
     "name": "stdout",
     "output_type": "stream",
     "text": [
      "(1, 3, 640, 640)\n",
      "float32\n"
     ]
    }
   ],
   "source": [
    "# need to set input and output precisions to FP16 to fully enable it\n",
    "BATCH_SIZE=1\n",
    "target_dtype=np.float32\n",
    "img = cv2.imread(\"/home/pat/scratch/RumexWeeds/20210806_hegnstrup/seq11/imgs/20210806_hegnstrup_rgb_11_1628251306926751800.png\")\n",
    "img = cv2.resize(img, (640,640))\n",
    "img = np.expand_dims(img, 0)\n",
    "img = img.astype(np.float32)\n",
    "img /= 255\n",
    "input_batch = img\n",
    "input_batch = input_batch.swapaxes(-1, 1)\n",
    "print(input_batch.shape)\n",
    "print(input_batch.dtype)\n"
   ]
  },
  {
   "cell_type": "code",
   "execution_count": 5,
   "metadata": {},
   "outputs": [
    {
     "data": {
      "text/plain": [
       "4"
      ]
     },
     "execution_count": 5,
     "metadata": {},
     "output_type": "execute_result"
    }
   ],
   "source": [
    "np.empty(1, dtype=np.float32).nbytes"
   ]
  },
  {
   "cell_type": "code",
   "execution_count": 6,
   "metadata": {},
   "outputs": [],
   "source": [
    "output = np.empty([BATCH_SIZE, 25200, 6], dtype=np.float32)\n",
    "output2 = np.empty([BATCH_SIZE, 3, 80, 80, 6], dtype=np.float32)\n",
    "output3 = np.empty([BATCH_SIZE, 3, 40, 40, 6], dtype=np.float32)\n",
    "output4 = np.empty([BATCH_SIZE, 3, 20, 20, 6], dtype=np.float32)\n"
   ]
  },
  {
   "cell_type": "code",
   "execution_count": 15,
   "metadata": {},
   "outputs": [],
   "source": [
    "output_cuda = np.empty((output.nbytes + output2.nbytes + output3.nbytes + output4.nbytes)//4, dtype=np.float32)\n"
   ]
  },
  {
   "cell_type": "code",
   "execution_count": 16,
   "metadata": {},
   "outputs": [],
   "source": [
    "\n",
    "\n",
    "# output = np.empty([1, 1000], dtype=np.float32)\n",
    "\n",
    "# allocate device memory\n",
    "d_input = cuda.mem_alloc(1 * input_batch.nbytes)\n",
    "d_output = cuda.mem_alloc(1 * output_cuda.nbytes)\n",
    "\n",
    "\n",
    "# d_output = cuda.mem_alloc(1* output.nbytes)\n",
    "\n",
    "bindings = [int(d_input), int(d_output)]\n",
    "\n",
    "stream = cuda.Stream()"
   ]
  },
  {
   "cell_type": "code",
   "execution_count": 17,
   "metadata": {},
   "outputs": [],
   "source": [
    "def predict(batch): # result gets copied into output\n",
    "    # transfer input data to device\n",
    "    print(\"Copying batch to cuda device\")\n",
    "    cuda.memcpy_htod_async(d_input, batch, stream)\n",
    "    # execute model\n",
    "    print(\"Executing inference\")\n",
    "    context.execute_async_v2(bindings, stream.handle, None)\n",
    "    # transfer predictions back\n",
    "    print(\"transfering back\")\n",
    "    cuda.memcpy_dtoh_async(output_cuda, d_output, stream)\n",
    "    # syncronize threads\n",
    "    print(\"synchronizing\")\n",
    "    stream.synchronize()\n",
    "    \n",
    "    return output_cuda"
   ]
  },
  {
   "cell_type": "code",
   "execution_count": 18,
   "metadata": {},
   "outputs": [
    {
     "name": "stdout",
     "output_type": "stream",
     "text": [
      "Warming up...\n",
      "Copying batch to cuda device\n",
      "Executing inference\n",
      "transfering back\n",
      "[06/23/2022-13:01:33] [TRT] [E] 3: [executionContext.cpp::enqueueInternal::342] Error Code 3: API Usage Error (Parameter check failed at: runtime/api/executionContext.cpp::enqueueInternal::342, condition: (mEngine.bindingIsInput(x) && hasZeroVolume(dims)) || bindings[x]\n",
      ")\n",
      "synchronizing\n",
      "Done warming up!\n"
     ]
    }
   ],
   "source": [
    "print(\"Warming up...\")\n",
    "\n",
    "pred = predict(input_batch)\n",
    "\n",
    "print(\"Done warming up!\")"
   ]
  },
  {
   "cell_type": "code",
   "execution_count": 20,
   "metadata": {},
   "outputs": [
    {
     "name": "stdout",
     "output_type": "stream",
     "text": [
      "Copying batch to cuda device\n",
      "Executing inference\n",
      "transfering back\n",
      "[06/23/2022-13:01:42] [TRT] [E] 1: [runner.cpp::execute::418] Error Code 1: Myelin (Final synchronize failed (700))\n"
     ]
    },
    {
     "ename": "LogicError",
     "evalue": "cuMemcpyDtoHAsync failed: an illegal memory access was encountered",
     "output_type": "error",
     "traceback": [
      "\u001b[0;31m---------------------------------------------------------------------------\u001b[0m",
      "\u001b[0;31mLogicError\u001b[0m                                Traceback (most recent call last)",
      "\u001b[0;32m/tmp/ipykernel_3100/1098851972.py\u001b[0m in \u001b[0;36m<module>\u001b[0;34m\u001b[0m\n\u001b[0;32m----> 1\u001b[0;31m \u001b[0mpredict\u001b[0m\u001b[0;34m(\u001b[0m\u001b[0minput_batch\u001b[0m\u001b[0;34m)\u001b[0m\u001b[0;34m\u001b[0m\u001b[0;34m\u001b[0m\u001b[0m\n\u001b[0m",
      "\u001b[0;32m/tmp/ipykernel_3100/1534014732.py\u001b[0m in \u001b[0;36mpredict\u001b[0;34m(batch)\u001b[0m\n\u001b[1;32m      8\u001b[0m     \u001b[0;31m# transfer predictions back\u001b[0m\u001b[0;34m\u001b[0m\u001b[0;34m\u001b[0m\u001b[0;34m\u001b[0m\u001b[0m\n\u001b[1;32m      9\u001b[0m     \u001b[0mprint\u001b[0m\u001b[0;34m(\u001b[0m\u001b[0;34m\"transfering back\"\u001b[0m\u001b[0;34m)\u001b[0m\u001b[0;34m\u001b[0m\u001b[0;34m\u001b[0m\u001b[0m\n\u001b[0;32m---> 10\u001b[0;31m     \u001b[0mcuda\u001b[0m\u001b[0;34m.\u001b[0m\u001b[0mmemcpy_dtoh_async\u001b[0m\u001b[0;34m(\u001b[0m\u001b[0moutput_cuda\u001b[0m\u001b[0;34m,\u001b[0m \u001b[0md_output\u001b[0m\u001b[0;34m,\u001b[0m \u001b[0mstream\u001b[0m\u001b[0;34m)\u001b[0m\u001b[0;34m\u001b[0m\u001b[0;34m\u001b[0m\u001b[0m\n\u001b[0m\u001b[1;32m     11\u001b[0m     \u001b[0;31m# syncronize threads\u001b[0m\u001b[0;34m\u001b[0m\u001b[0;34m\u001b[0m\u001b[0;34m\u001b[0m\u001b[0m\n\u001b[1;32m     12\u001b[0m     \u001b[0mprint\u001b[0m\u001b[0;34m(\u001b[0m\u001b[0;34m\"synchronizing\"\u001b[0m\u001b[0;34m)\u001b[0m\u001b[0;34m\u001b[0m\u001b[0;34m\u001b[0m\u001b[0m\n",
      "\u001b[0;31mLogicError\u001b[0m: cuMemcpyDtoHAsync failed: an illegal memory access was encountered"
     ]
    }
   ],
   "source": [
    "predict(input_batch)"
   ]
  }
 ],
 "metadata": {
  "kernelspec": {
   "display_name": "Python 3.7.13 ('yolor')",
   "language": "python",
   "name": "python3"
  },
  "language_info": {
   "codemirror_mode": {
    "name": "ipython",
    "version": 3
   },
   "file_extension": ".py",
   "mimetype": "text/x-python",
   "name": "python",
   "nbconvert_exporter": "python",
   "pygments_lexer": "ipython3",
   "version": "3.7.13"
  },
  "orig_nbformat": 4,
  "vscode": {
   "interpreter": {
    "hash": "c2cb36cc92949109abc09bec5dd0db0c5ebbad9f59ad6aed0bb18c19f71b38e4"
   }
  }
 },
 "nbformat": 4,
 "nbformat_minor": 2
}
